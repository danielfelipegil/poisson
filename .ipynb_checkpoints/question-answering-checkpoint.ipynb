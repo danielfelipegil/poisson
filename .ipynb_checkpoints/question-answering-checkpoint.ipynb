{
 "cells": [
  {
   "cell_type": "markdown",
   "metadata": {},
   "source": [
    "<h3>0. Exploratory analysis</h3>"
   ]
  },
  {
   "cell_type": "code",
   "execution_count": 6,
   "metadata": {},
   "outputs": [],
   "source": [
    "import json\n",
    "import pandas as pd\n",
    "\n",
    "df_training=pd.read_json('project_files/training.json')\n",
    "df_devel=pd.read_json('project_files/training.json')\n",
    "#df_docs=pd.read_json('project_files/documents.json')\n",
    "#df_testing=pd.read_csv('project_files/testing2.json')"
   ]
  },
  {
   "cell_type": "code",
   "execution_count": 14,
   "metadata": {},
   "outputs": [
    {
     "name": "stdout",
     "output_type": "stream",
     "text": [
      "A kilogram could be definined as having a Planck constant of what value?\n",
      "What is the shape of the object that establishes the base unit of the kilogram?\n",
      "What example is given as another paired relationship of uncertainly related to standard deviation?\n"
     ]
    }
   ],
   "source": [
    "for item in df_training['question'][:3]:\n",
    "    print(item)"
   ]
  },
  {
   "cell_type": "code",
   "execution_count": 6,
   "metadata": {},
   "outputs": [
    {
     "data": {
      "text/html": [
       "<div>\n",
       "<style scoped>\n",
       "    .dataframe tbody tr th:only-of-type {\n",
       "        vertical-align: middle;\n",
       "    }\n",
       "\n",
       "    .dataframe tbody tr th {\n",
       "        vertical-align: top;\n",
       "    }\n",
       "\n",
       "    .dataframe thead th {\n",
       "        text-align: right;\n",
       "    }\n",
       "</style>\n",
       "<table border=\"1\" class=\"dataframe\">\n",
       "  <thead>\n",
       "    <tr style=\"text-align: right;\">\n",
       "      <th></th>\n",
       "      <th>docid</th>\n",
       "      <th>text</th>\n",
       "    </tr>\n",
       "  </thead>\n",
       "  <tbody>\n",
       "    <tr>\n",
       "      <th>0</th>\n",
       "      <td>0</td>\n",
       "      <td>[First recognized in 1900 by Max Planck, it wa...</td>\n",
       "    </tr>\n",
       "    <tr>\n",
       "      <th>1</th>\n",
       "      <td>1</td>\n",
       "      <td>[Public policy and political leadership helps ...</td>\n",
       "    </tr>\n",
       "    <tr>\n",
       "      <th>2</th>\n",
       "      <td>2</td>\n",
       "      <td>[In a career spanning more than four decades, ...</td>\n",
       "    </tr>\n",
       "    <tr>\n",
       "      <th>3</th>\n",
       "      <td>3</td>\n",
       "      <td>[Anti-aircraft warfare or counter-air defence ...</td>\n",
       "    </tr>\n",
       "    <tr>\n",
       "      <th>4</th>\n",
       "      <td>4</td>\n",
       "      <td>[The Endangered Species Act of 1973 (ESA; 16 U...</td>\n",
       "    </tr>\n",
       "  </tbody>\n",
       "</table>\n",
       "</div>"
      ],
      "text/plain": [
       "   docid                                               text\n",
       "0      0  [First recognized in 1900 by Max Planck, it wa...\n",
       "1      1  [Public policy and political leadership helps ...\n",
       "2      2  [In a career spanning more than four decades, ...\n",
       "3      3  [Anti-aircraft warfare or counter-air defence ...\n",
       "4      4  [The Endangered Species Act of 1973 (ESA; 16 U..."
      ]
     },
     "execution_count": 6,
     "metadata": {},
     "output_type": "execute_result"
    }
   ],
   "source": [
    "df_docs.head()"
   ]
  },
  {
   "cell_type": "code",
   "execution_count": 12,
   "metadata": {},
   "outputs": [],
   "source": [
    "df_testing=pd.read_csv('project_files/testing2.json')"
   ]
  },
  {
   "cell_type": "code",
   "execution_count": null,
   "metadata": {},
   "outputs": [],
   "source": [
    "df_testing.head()"
   ]
  },
  {
   "cell_type": "code",
   "execution_count": 7,
   "metadata": {},
   "outputs": [
    {
     "data": {
      "text/html": [
       "<div>\n",
       "<style scoped>\n",
       "    .dataframe tbody tr th:only-of-type {\n",
       "        vertical-align: middle;\n",
       "    }\n",
       "\n",
       "    .dataframe tbody tr th {\n",
       "        vertical-align: top;\n",
       "    }\n",
       "\n",
       "    .dataframe thead th {\n",
       "        text-align: right;\n",
       "    }\n",
       "</style>\n",
       "<table border=\"1\" class=\"dataframe\">\n",
       "  <thead>\n",
       "    <tr style=\"text-align: right;\">\n",
       "      <th></th>\n",
       "      <th>answer_paragraph</th>\n",
       "      <th>docid</th>\n",
       "      <th>question</th>\n",
       "      <th>text</th>\n",
       "    </tr>\n",
       "  </thead>\n",
       "  <tbody>\n",
       "    <tr>\n",
       "      <th>0</th>\n",
       "      <td>23</td>\n",
       "      <td>0</td>\n",
       "      <td>A kilogram could be definined as having a Plan...</td>\n",
       "      <td>6966662606895999999♠6.62606896×10−34 j⋅s</td>\n",
       "    </tr>\n",
       "    <tr>\n",
       "      <th>1</th>\n",
       "      <td>22</td>\n",
       "      <td>0</td>\n",
       "      <td>What is the shape of the object that establish...</td>\n",
       "      <td>cylinder</td>\n",
       "    </tr>\n",
       "    <tr>\n",
       "      <th>2</th>\n",
       "      <td>12</td>\n",
       "      <td>0</td>\n",
       "      <td>What example is given as another paired relati...</td>\n",
       "      <td>time vs. energy</td>\n",
       "    </tr>\n",
       "    <tr>\n",
       "      <th>3</th>\n",
       "      <td>1</td>\n",
       "      <td>0</td>\n",
       "      <td>What does the Planck Constant refer to?</td>\n",
       "      <td>quantum of action</td>\n",
       "    </tr>\n",
       "    <tr>\n",
       "      <th>4</th>\n",
       "      <td>10</td>\n",
       "      <td>0</td>\n",
       "      <td>When was the first quantized model of the atom...</td>\n",
       "      <td>1913</td>\n",
       "    </tr>\n",
       "  </tbody>\n",
       "</table>\n",
       "</div>"
      ],
      "text/plain": [
       "   answer_paragraph  docid                                           question  \\\n",
       "0                23      0  A kilogram could be definined as having a Plan...   \n",
       "1                22      0  What is the shape of the object that establish...   \n",
       "2                12      0  What example is given as another paired relati...   \n",
       "3                 1      0            What does the Planck Constant refer to?   \n",
       "4                10      0  When was the first quantized model of the atom...   \n",
       "\n",
       "                                       text  \n",
       "0  6966662606895999999♠6.62606896×10−34 j⋅s  \n",
       "1                                  cylinder  \n",
       "2                           time vs. energy  \n",
       "3                         quantum of action  \n",
       "4                                      1913  "
      ]
     },
     "execution_count": 7,
     "metadata": {},
     "output_type": "execute_result"
    }
   ],
   "source": [
    "df_devel.head()"
   ]
  },
  {
   "cell_type": "markdown",
   "metadata": {},
   "source": [
    "<h3>1. Question processing</h3>"
   ]
  },
  {
   "cell_type": "code",
   "execution_count": 19,
   "metadata": {},
   "outputs": [],
   "source": [
    "from collections import defaultdict\n",
    "import nltk\n",
    "\n",
    "def process_question(words):\n",
    "    ## question type: classify the type of question\n",
    "    # hand writter rule vs supervised ML - start with rules then we can move to supervised using datasets like.\n",
    "    \n",
    "    # default values\n",
    "    question_type='UNK'\n",
    "    answer_type='UNK'\n",
    "    query=''\n",
    "    \n",
    "    # handwriten rules\n",
    "    y_n_question=['is','can','could']\n",
    "    wh_question=['what','who','where','when']\n",
    "    \n",
    "    for word in words:\n",
    "        word=word.lower()\n",
    "        if word in y_n_question:\n",
    "            question_type='YN'\n",
    "            break\n",
    "        elif word in wh_question:\n",
    "            question_type='WH'\n",
    "            break\n",
    "        else:\n",
    "            question_type='UNK'\n",
    "            \n",
    "    \n",
    "    ## focus: strings possible to be replaced in the answer\n",
    "    # identify with the NER - use NLP taggin from CoreNLP\n",
    "    \n",
    "    ## answer type: kind of entity\n",
    "    # from NER\n",
    "    \n",
    "    # just to start, the answer type is the same as question -- DELETE\n",
    "    answer_type=question_type\n",
    "    \n",
    "    ## query: keywords to be used for the IR system to search in documents\n",
    "    # do we need to do semantic parsing?\n",
    "    # query should be built according to question type\n",
    "    \n",
    "    \n",
    "    \n",
    "    return query,answer_type\n",
    "\n",
    "# process questions\n",
    "queries=[]\n",
    "for index, row in df_training.iterrows():\n",
    "    question_training=nltk.word_tokenize(row['question'])\n",
    "    query,answer_type=process_question(question_training)\n",
    "    queries.append((query,answer_type))\n",
    "    \n",
    "    "
   ]
  },
  {
   "cell_type": "code",
   "execution_count": 20,
   "metadata": {},
   "outputs": [
    {
     "data": {
      "text/plain": [
       "[('', 'WH'), ('', 'WH'), ('', 'WH')]"
      ]
     },
     "execution_count": 20,
     "metadata": {},
     "output_type": "execute_result"
    }
   ],
   "source": [
    "queries[1:4]"
   ]
  },
  {
   "cell_type": "markdown",
   "metadata": {},
   "source": [
    "<h3>2. Candidate answering generation</h3>"
   ]
  },
  {
   "cell_type": "code",
   "execution_count": null,
   "metadata": {},
   "outputs": [],
   "source": []
  },
  {
   "cell_type": "markdown",
   "metadata": {},
   "source": [
    "<h3>3. Candidate answering scoring</h3>"
   ]
  },
  {
   "cell_type": "code",
   "execution_count": null,
   "metadata": {},
   "outputs": [],
   "source": []
  },
  {
   "cell_type": "markdown",
   "metadata": {},
   "source": [
    "<h3>4. Answer and confidence</h3>"
   ]
  },
  {
   "cell_type": "code",
   "execution_count": null,
   "metadata": {},
   "outputs": [],
   "source": []
  }
 ],
 "metadata": {
  "kernelspec": {
   "display_name": "Python [default]",
   "language": "python",
   "name": "python3"
  },
  "language_info": {
   "codemirror_mode": {
    "name": "ipython",
    "version": 3
   },
   "file_extension": ".py",
   "mimetype": "text/x-python",
   "name": "python",
   "nbconvert_exporter": "python",
   "pygments_lexer": "ipython3",
   "version": "3.5.5"
  }
 },
 "nbformat": 4,
 "nbformat_minor": 2
}
